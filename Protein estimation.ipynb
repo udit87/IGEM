{
 "cells": [
  {
   "cell_type": "code",
   "execution_count": 67,
   "id": "f2691567",
   "metadata": {},
   "outputs": [],
   "source": [
    "import numpy as np"
   ]
  },
  {
   "cell_type": "code",
   "execution_count": 68,
   "id": "5ae94634",
   "metadata": {},
   "outputs": [],
   "source": [
    "from scipy.integrate import odeint"
   ]
  },
  {
   "cell_type": "code",
   "execution_count": 92,
   "id": "264fdf64",
   "metadata": {},
   "outputs": [
    {
     "name": "stdout",
     "output_type": "stream",
     "text": [
      "(array([], dtype=int64), {'peak_heights': array([], dtype=float64)})\n",
      "[]\n"
     ]
    },
    {
     "data": {
      "image/png": "[encoded data removed]",
      "text/plain": [
       "<Figure size 432x288 with 1 Axes>"
      ]
     },
     "metadata": {
      "needs_background": "light"
     },
     "output_type": "display_data"
    }
   ],
   "source": [
    "# INDUCTION OF IPTG AT t = 0:\n",
    "\n",
    "\n",
    "# INTIAL CONDITIONS:\n",
    "# RNAP mRNA ~ 1 - 10 (4600 / 540)(4600(2000 - 10000) - Bakshi S, Siryaporn A, Goulian M, Weisshaar JC. Superresolution imaging of ribosomes and RNA polymerase in live Escherichia coli cells. Mol Microbiol. 2012 Jul85(1):21-38. doi: 10.1111/j.1365-2958.2012.08081.x. p.26 right column top paragraphPubMed ID22624875)\n",
    "                      #540 being the protein to mRNA ratio\n",
    "                          \n",
    "#Total RNAP = (1500 - 11400) - X. Sunney Xie, Paul J. Choi, Gene-Wei Li, Nam Ki Lee, and Giuseppe Lia, 'Single-Molecule Approach to Molecular Biology in Living Bacterial Cells', Annu. Rev. Biophys. 2008. 37:p.419PubMed ID18573089\n",
    "#           = 4600(2000 - 10000) - Bakshi S, Siryaporn A, Goulian M, Weisshaar JC. Superresolution imaging of ribosomes and RNA polymerase in live Escherichia coli cells. Mol Microbiol. 2012 Jul85(1):21-38. doi: 10.1111/j.1365-2958.2012.08081.x. p.26 right column top paragraphPubMed ID22624875\n",
    "#True value  = 400, as there are 5- 20 RNAP per LAC induced gene, since we have 40 plasmid (taking 10 RNAP) we have = 10*40 = 400 RNAP (X. Sunney Xie, Paul J. Choi, Gene-Wei Li, Nam Ki Lee, and Giuseppe Lia, 'Single-Molecule Approach to Molecular Biology in Living Bacterial Cells', Annu. Rev. Biophys. 2008. 37:p.419PubMed ID18573089)\n",
    "\n",
    "#LacI mRNA = (10 - 30) - X. Sunney Xie, Paul J. Choi, Gene-Wei Li, Nam Ki Lee, and Giuseppe Lia, 'Single-Molecule Approach to Molecular Biology in Living Bacterial Cells', Annu. Rev. Biophys. 2008. 37:p.419PubMed ID18573089\n",
    "#             as there are 10000 LacZ molecules and protein/mRNA ratio is 540(see bionumbers) therefore ~18 molecules of LacZ mRNA must be there, which is accurate as per paper\n",
    "#             so by same logic there must be 0.018 molecules of LacI mRNA as there are only 10 in a cell..which is not possible so we take LacI mRNA per moleculea = 1\n",
    "#True value = 1\n",
    "\n",
    "#LacI = 10 molecules per cell - Kalisky T, Dekel E, Alon U. Cost-benefit theory and optimal design of gene regulation functions. Phys Biol. 2007 Nov 7 4(4):229-45. p.239 table\n",
    "\n",
    "#LacI dimer = 0 (initially)\n",
    "\n",
    "#Total OE = 40 (EQUAL TO COPY NUMBER)-https://ecoliwiki.org/colipedia/index.php/pET-28a(%2B)\n",
    "\n",
    "#O_E occupied by repressor protein = 38 (95% of total OE)\n",
    "\n",
    "#I_extracellular ~ 10000 (calculated)\n",
    "\n",
    "# I intracelluar = 0 (t = 0)\n",
    "\n",
    "# I2RE2 = 0 (t= 0)\n",
    "\n",
    "# mRNA of Y = (after induction) 10 - 30 (X. Sunney Xie, Paul J. Choi, Gene-Wei Li, Nam Ki Lee, and Giuseppe Lia, 'Single-Molecule Approach to Molecular Biology in Living Bacterial Cells', Annu. Rev. Biophys. 2008. 37:p.419PubMed ID18573089)\n",
    "\n",
    "#LacY = 0 (before induction)\n",
    "\n",
    "#desired enzyme mRNA = 0\n",
    "\n",
    "#desired enzyme = 0\n",
    "\n",
    "import matplotlib.pyplot as plt\n",
    "alpha_MR = 0.23\n",
    "lamda_MR = 0.462 \n",
    "beta_R = 15 \n",
    "k_2R = 50\n",
    "k_n2R = 10**-3 \n",
    "lamda_R = 0.2\n",
    "k_R = 960\n",
    "k_nR = 2.4\n",
    "k_dr1 = 3* 10**(-7)\n",
    "k_ndr1 =12 \n",
    "lamda_R2 = 0.2\n",
    "k_dr2 = 3* 10**(-7)\n",
    "k_ndr2 = 4.8 * 10**-3\n",
    "k_ft = 6 * 10**4\n",
    "k_t = 0.92\n",
    "lamda_I2R2 =0.2 \n",
    "alpha_0 = 3.066 * 10**-23\n",
    "alpha_1 = 0.5\n",
    "lamda_MY = 0.462\n",
    "beta_Y = 30\n",
    "k_np =0.1 \n",
    "k_p = 0.12\n",
    "lamda_Y = 0.2\n",
    "lamda_Ylex = 0.2\n",
    "lamda_MT7 = 0.462 \n",
    "beta_T7 = 6.116\n",
    "lamda_pT7 = 0.2\n",
    "n = 2\n",
    "k_d = 3\n",
    "alpha_MT = 0.5\n",
    "alpha_leak = 3.066 * 10**-23\n",
    "lamda_MF = 0.462\n",
    "beta_F = 10.063\n",
    "lamda_F = 0.1\n",
    "tf = 100\n",
    "dt=0.001\n",
    "\n",
    "t = np.arange(0,tf,dt)\n",
    "def dD(D,tm):\n",
    "    Da,Db,Dc,Dd,De,Df,Dg,Dh,Di,Dj,Dk,Dl,Dm = D\n",
    "    d1 = alpha_MR*40 - lamda_MR*Da\n",
    "    d2 = beta_R*Da - 2*k_2R*(Db)**2 + 2*k_n2R*Dc-lamda_R*Db\n",
    "    d3 = 2*k_2R*(Da)**2 - 2*k_n2R*Dc-k_R*Dc*Dd+ k_nR*(40 - Dd)- k_dr1*Dc*(De)**2 + k_ndr1*Df-lamda_R2*Dc\n",
    "    d4 = -k_R*Dc*Dd+k_nR*(40-Dd)+k_dr2*(40-Dd)*(De)**2-k_ndr2*Dd*Df\n",
    "    d5 = (-2*k_dr1*Dc*(De)**2+ 2*k_ndr1*Df-2*k_dr2*(40- Dd)*(De)**2+2*k_ndr2*Dd*Df+k_ft*Di+k_t*(10**4-De)+2*lamda_I2R2*Df)\n",
    "    d6 = k_dr1*Dc*(De)**2 - k_ndr1*Df+k_dr2*(40-Dd)*(De)**2-k_ndr2*Dd*Df-lamda_I2R2*Df\n",
    "    d7 = alpha_0*(40-Dd)+alpha_1*Dd-lamda_MY*Dg\n",
    "    d8 = beta_Y*Dg+(k_ft +k_np)*Di-k_p*Dh*10**4-lamda_Y*Dh\n",
    "    d9 = -(k_ft+k_np)*Di+k_p*Dh*10**4-lamda_Ylex*Di\n",
    "    d10= alpha_0*(40-Dd)+alpha_1*Dd-lamda_MT7*Dj\n",
    "    d11=beta_T7*Dj-lamda_pT7*Dk\n",
    "    d12= (((Dk)**n/((Dk)**n + (k_d)**n))*alpha_MT + alpha_leak)*40 - lamda_MF*Dl\n",
    "    d13= beta_F*Dl-lamda_F*Dm\n",
    "    \n",
    "    return[d1,d2,d3,d4,d5,d6,d7,d8,d9,d10,d11,d12,d13]\n",
    "D = odeint(dD,[1,10,0,38,0,0,20,0,0,1,400,0,0],t)\n",
    "Da=D[:,0]\n",
    "Db=D[:,1]\n",
    "Dc=D[:,2]\n",
    "Dd=D[:,3]\n",
    "De=D[:,4]\n",
    "Df=D[:,5]\n",
    "Dg=D[:,6]\n",
    "Dh=D[:,7]\n",
    "Di= D[:,8]\n",
    "Dj=D[:,9]\n",
    "Dk=D[:,10]\n",
    "Dl=D[:,11]\n",
    "Dm=D[:,12]\n",
    "\n",
    "plt.plot(t,Dm,linewidth = 5,color = 'm')\n",
    "plt.xlabel('Time(min)')\n",
    "plt.ylabel('Enzyme conc. (nM)')\n",
    "from scipy.signal import find_peaks\n",
    "peaks = find_peaks(Dm,height = 1)\n",
    "print(peaks)\n",
    "height = peaks[1]['peak_heights']\n",
    "print(height)"
   ]
  },
  {
   "cell_type": "code",
   "execution_count": 63,
   "id": "3433bb5a",
   "metadata": {},
   "outputs": [
    {
     "name": "stderr",
     "output_type": "stream",
     "text": [
      "UsageError: Line magic function `%` not found.\n"
     ]
    }
   ],
   "source": []
  },
  {
   "cell_type": "code",
   "execution_count": null,
   "id": "5c1ba74e",
   "metadata": {},
   "outputs": [],
   "source": []
  },
  {
   "cell_type": "code",
   "execution_count": null,
   "id": "4974328b",
   "metadata": {},
   "outputs": [],
   "source": []
  },
  {
   "cell_type": "code",
   "execution_count": null,
   "id": "18ab1494",
   "metadata": {},
   "outputs": [],
   "source": []
  },
  {
   "cell_type": "code",
   "execution_count": 65,
   "id": "e9bc7a43",
   "metadata": {},
   "outputs": [],
   "source": []
  },
  {
   "cell_type": "code",
   "execution_count": null,
   "id": "4d1d016f",
   "metadata": {},
   "outputs": [],
   "source": []
  },
  {
   "cell_type": "code",
   "execution_count": null,
   "id": "00e0339c",
   "metadata": {},
   "outputs": [],
   "source": []
  }
 ],
 "metadata": {
  "kernelspec": {
   "display_name": "Python 3",
   "language": "python",
   "name": "python3"
  },
  "language_info": {
   "codemirror_mode": {
    "name": "ipython",
    "version": 3
   },
   "file_extension": ".py",
   "mimetype": "text/x-python",
   "name": "python",
   "nbconvert_exporter": "python",
   "pygments_lexer": "ipython3",
   "version": "3.8.8"
  }
 },
 "nbformat": 4,
 "nbformat_minor": 5
}
