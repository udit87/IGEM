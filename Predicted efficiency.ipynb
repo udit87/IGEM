{
 "cells": [
  {
   "cell_type": "code",
   "execution_count": 5,
   "id": "a96272d2",
   "metadata": {},
   "outputs": [
    {
     "name": "stdout",
     "output_type": "stream",
     "text": [
      "[0.0, 0.8445966621173719, 1.5284877676169983, 1.8448884781662558, 2.006795191075243, 2.1005491130621756, 2.1602302741480917, 2.200983524669702, 2.2303245773318765, 2.252331717780465, 2.269381630825339, 2.282941412515311, 2.2939603619498, 2.3030772451358335, 2.3107362743018736, 2.317255163133396, 2.3228667149311883, 2.3277451431464025, 2.332023245560822, 2.335803914962585, 2.339168039169814, 2.3421800387792504, 2.3448918232189544, 2.347345665503039, 2.349576323760887, 2.3516126290523953, 2.3534786890858332, 2.355194811553177, 2.356778220101067, 2.3582436150822836, 2.359603616819522, 2.3608691190186715, 2.3620495728051605, 2.3631532167106446, 2.3641872641979305, 2.3651580575657736, 2.366071195038164, 2.366931636317489, 2.3677437907289174, 2.368511591205899, 2.3692385566931726, 2.3699278450228465, 2.370582297913556, 2.371204479424785, 2.371796708947693, 2.3723610896147664, 2.372899532851819, 2.3734137796684522, 2.3739054191802946, 2.3743759047730624]\n"
     ]
    },
    {
     "data": {
      "image/png": "[encoded data removed]",
      "text/plain": [
       "<Figure size 432x288 with 1 Axes>"
      ]
     },
     "metadata": {
      "needs_background": "light"
     },
     "output_type": "display_data"
    }
   ],
   "source": [
    "import numpy as np\n",
    "import matplotlib.pyplot as plt\n",
    "\n",
    "# Kd1 (strepto) = 3.36 * 10^(-5)\n",
    "# Kd2 (serretia) = 4.43 * 10^(-6)\n",
    "\n",
    "# Vmax = 0.31 mmol/min\n",
    "# Vmax = 2.4 mmol/min\n",
    "\n",
    "# v = ((Vmax1 * [S]/Kd1 + Vmax2 * [S]**2/Kd1*Kd2) / (1 + [S]/Kd1 + [S]**2/Kd1*Kd2))\n",
    "\n",
    "s = np.arange(0,0.0005,0.00001)\n",
    "\n",
    "l =[]\n",
    "for x in s:\n",
    "    #y = ((0.05357 * 10**8 *x + 0.161 *10**18*x**2)/(1 + x/(3.36 * 10**(-8)) + x**2/(14.88 * 10**(-18))))\n",
    "    y = ((0.05357 * 10**5 *x + 0.161 *10**11*x**2)/(1 + x/(3.36 * 10**(-5)) + x**2/(14.88 * 10**(-11))))\n",
    "    \n",
    "    l.append(y)\n",
    "\n",
    "\n",
    "\n",
    "import numpy as np\n",
    "import matplotlib.pyplot as plt\n",
    "\n",
    "\n",
    "plt.plot(s*10**3,l,linewidth = 5,color = 'r')\n",
    "plt.ylabel('Reaction Velocity v (mmol/min)')\n",
    "plt.xlabel('Substrate conc.(milimolar)')\n",
    "print(l)\n",
    "\n",
    "\n",
    "# peak = 2.3947522550352054 mmol/min"
   ]
  },
  {
   "cell_type": "code",
   "execution_count": null,
   "id": "c88e89ca",
   "metadata": {},
   "outputs": [],
   "source": [
    "\n"
   ]
  },
  {
   "cell_type": "code",
   "execution_count": null,
   "id": "7e3b7445",
   "metadata": {},
   "outputs": [],
   "source": []
  },
  {
   "cell_type": "code",
   "execution_count": null,
   "id": "e6c12044",
   "metadata": {},
   "outputs": [],
   "source": []
  },
  {
   "cell_type": "code",
   "execution_count": null,
   "id": "f108c58e",
   "metadata": {},
   "outputs": [],
   "source": []
  },
  {
   "cell_type": "code",
   "execution_count": null,
   "id": "aec0f11b",
   "metadata": {},
   "outputs": [],
   "source": []
  },
  {
   "cell_type": "code",
   "execution_count": null,
   "id": "d74e4195",
   "metadata": {},
   "outputs": [],
   "source": []
  },
  {
   "cell_type": "code",
   "execution_count": null,
   "id": "ace34d1a",
   "metadata": {},
   "outputs": [],
   "source": []
  },
  {
   "cell_type": "code",
   "execution_count": null,
   "id": "df8c4443",
   "metadata": {},
   "outputs": [],
   "source": []
  },
  {
   "cell_type": "code",
   "execution_count": null,
   "id": "c74e7227",
   "metadata": {},
   "outputs": [],
   "source": []
  }
 ],
 "metadata": {
  "kernelspec": {
   "display_name": "Python 3",
   "language": "python",
   "name": "python3"
  },
  "language_info": {
   "codemirror_mode": {
    "name": "ipython",
    "version": 3
   },
   "file_extension": ".py",
   "mimetype": "text/x-python",
   "name": "python",
   "nbconvert_exporter": "python",
   "pygments_lexer": "ipython3",
   "version": "3.8.8"
  }
 },
 "nbformat": 4,
 "nbformat_minor": 5
}
