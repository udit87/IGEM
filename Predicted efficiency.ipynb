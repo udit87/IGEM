{
 "cells": [
  {
   "cell_type": "code",
   "execution_count": 68,
   "id": "a96272d2",
   "metadata": {},
   "outputs": [
    {
     "data": {
      "text/plain": [
       "Text(0.5, 0, 'Substrate conc.(milimolar)')"
      ]
     },
     "execution_count": 68,
     "metadata": {},
     "output_type": "execute_result"
    },
    {
     "data": {
      "image/png": "[encoded data removed]",
      "text/plain": [
       "<Figure size 432x288 with 1 Axes>"
      ]
     },
     "metadata": {
      "needs_background": "light"
     },
     "output_type": "display_data"
    }
   ],
   "source": [
    "import numpy as np\n",
    "import matplotlib.pyplot as plt\n",
    "\n",
    "# Kd1 (strepto) = 3.36 * 10^(-5)\n",
    "# Kd2 (serretia) = 4.43 * 10^(-6)\n",
    "\n",
    "# Vmax = 0.31 mmol/min\n",
    "# Vmax = 2.4 mmol/min\n",
    "\n",
    "# v = ((Vmax1 * [S]/Kd1 + Vmax2 * [S]**2/Kd1*Kd2) / (1 + [S]/Kd1 + [S]**2/Kd1*Kd2))\n",
    "\n",
    "s = np.arange(0,0.001,0.00001)\n",
    "\n",
    "l =[]\n",
    "for x in s:\n",
    "    y = ((0.09226 * 10**5 *x + 0.161 *10**11*x**2)/(1 + x/(3.36 * 10**(-5)) + x**2/(14.88 * 10**(-11))))\n",
    "    l.append(y)\n",
    "\n",
    "\n",
    "\n",
    "import numpy as np\n",
    "import matplotlib.pyplot as plt\n",
    "\n",
    "\n",
    "plt.plot(s*10**3,l,linewidth = 5,color = 'r')\n",
    "plt.ylabel('Reaction Velocity v (mmol/min)')\n",
    "plt.xlabel('Substrate conc.(milimolar)')\n",
    "\n",
    "\n",
    "\n",
    "# peak = 2.3947522550352054 mmol/min"
   ]
  },
  {
   "cell_type": "code",
   "execution_count": null,
   "id": "c88e89ca",
   "metadata": {},
   "outputs": [],
   "source": [
    "\n"
   ]
  },
  {
   "cell_type": "code",
   "execution_count": null,
   "id": "7e3b7445",
   "metadata": {},
   "outputs": [],
   "source": []
  },
  {
   "cell_type": "code",
   "execution_count": null,
   "id": "e6c12044",
   "metadata": {},
   "outputs": [],
   "source": []
  },
  {
   "cell_type": "code",
   "execution_count": null,
   "id": "f108c58e",
   "metadata": {},
   "outputs": [],
   "source": []
  },
  {
   "cell_type": "code",
   "execution_count": null,
   "id": "aec0f11b",
   "metadata": {},
   "outputs": [],
   "source": []
  },
  {
   "cell_type": "code",
   "execution_count": null,
   "id": "d74e4195",
   "metadata": {},
   "outputs": [],
   "source": []
  },
  {
   "cell_type": "code",
   "execution_count": null,
   "id": "ace34d1a",
   "metadata": {},
   "outputs": [],
   "source": []
  },
  {
   "cell_type": "code",
   "execution_count": null,
   "id": "df8c4443",
   "metadata": {},
   "outputs": [],
   "source": []
  },
  {
   "cell_type": "code",
   "execution_count": null,
   "id": "c74e7227",
   "metadata": {},
   "outputs": [],
   "source": []
  }
 ],
 "metadata": {
  "kernelspec": {
   "display_name": "Python 3",
   "language": "python",
   "name": "python3"
  },
  "language_info": {
   "codemirror_mode": {
    "name": "ipython",
    "version": 3
   },
   "file_extension": ".py",
   "mimetype": "text/x-python",
   "name": "python",
   "nbconvert_exporter": "python",
   "pygments_lexer": "ipython3",
   "version": "3.8.8"
  }
 },
 "nbformat": 4,
 "nbformat_minor": 5
}
