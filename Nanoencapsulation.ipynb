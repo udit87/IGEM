{
 "cells": [
  {
   "cell_type": "code",
   "execution_count": 2,
   "id": "6f47f733",
   "metadata": {},
   "outputs": [
    {
     "name": "stderr",
     "output_type": "stream",
     "text": [
      "<ipython-input-2-11ea44d9e8da>:34: RuntimeWarning: invalid value encountered in power\n",
      "  R = y**(1/3)\n"
     ]
    },
    {
     "data": {
      "text/plain": [
       "Text(0, 0.5, 'Non dimensional Degradation Radius')"
      ]
     },
     "execution_count": 2,
     "metadata": {},
     "output_type": "execute_result"
    },
    {
     "data": {
      "image/png": "[encoded data removed]",
      "text/plain": [
       "<Figure size 432x288 with 1 Axes>"
      ]
     },
     "metadata": {
      "needs_background": "light"
     },
     "output_type": "display_data"
    }
   ],
   "source": [
    "import math\n",
    "import numpy as np\n",
    "from scipy.integrate import odeint\n",
    "import matplotlib.pyplot as plt\n",
    "\n",
    "#equation\n",
    "#dy/dt = 1/2 *[ A *(1-y)/B*c +1 - y]*tanh(alpha*(t - ti)+ 1)\n",
    "\n",
    "\n",
    "#y = (mass of soluble product / mass of a single microspore)\n",
    "#R = y**(-1./3) = non dimensional degradation radius\n",
    "V_MS= 1.793 *10**-15 #Volume of a microsphere = 4/3 * pi * R^3 (R = 12.15 um)(Experimental Studies and Modeling of the Degradation Process of Poly(Lactic-co-Glycolic Acid) Microspheres for Sustained Protein Release)\n",
    "MW_s =  148.11 #g/mol (Molecular weight of soluble product (Lactic Acid and Glycolic Acid)(https://pubchem.ncbi.nlm.nih.gov/compound/Poly_lactic-acid-co-glycolic-acid)\n",
    "k2 = k1 = 15.84 #day^-1 #(Forward Rate of ester hydrolysis )(https://www.toppr.com/ask/question/the-rate-constant-for-forward-and-backward-reactions-of-hydrolysis-of-ester-are-11-times/)\n",
    "initial_Acid =  0.029 #mol/L #(carbonic acid in blood conc.) (https://www.urmc.rochester.edu/encyclopedia/content.aspx?contenttypeid=167&contentid=bicarbonate)\n",
    "MW_P_0 = 26.1* 10**3 #g/mol(Number average molecular weight) #(https://www.azom.com/article.aspx?ArticleID=12446)\n",
    "m_MS_0 =  ((MW_P_0)/(6.022*10**23))\n",
    "K_m = 1.136 #(Experimental Studies and Modeling of the Degradation Process of Poly(Lactic-co-Glycolic Acid) Microspheres for Sustained Protein Release)\n",
    "Kdeg =0.1 #day^-1 #(Experimental Studies and Modeling of the Degradation Process of Poly(Lactic-co-Glycolic Acid) Microspheres for Sustained Protein Release) \n",
    "alpha = 2.5\n",
    "ti = 3\n",
    "\n",
    "B_0 = (V_MS * MW_s * k2 * initial_Acid)/m_MS_0\n",
    "psi = (K_m * V_MS * MW_P_0)/m_MS_0\n",
    "\n",
    "\n",
    "def model(y,t):\n",
    "    w = math.exp(-Kdeg*t)\n",
    "    dydt = 0.5 * ((B_0)*(1 - y)/(psi*w + 1 - y))*np.tanh(alpha*(t-ti)+1)\n",
    "    return dydt\n",
    "y0 = 0\n",
    "t = np.linspace(0,100)\n",
    "y = odeint(model,y0,t)\n",
    "R = y**(1/3)\n",
    "plt.plot(t,R,linewidth = 5,color = 'orange')\n",
    "plt.xlabel('t_Days')\n",
    "plt.ylabel('Non dimensional Degradation Radius')"
   ]
  },
  {
   "cell_type": "code",
   "execution_count": null,
   "id": "5410571d",
   "metadata": {},
   "outputs": [],
   "source": []
  }
 ],
 "metadata": {
  "kernelspec": {
   "display_name": "Python 3",
   "language": "python",
   "name": "python3"
  },
  "language_info": {
   "codemirror_mode": {
    "name": "ipython",
    "version": 3
   },
   "file_extension": ".py",
   "mimetype": "text/x-python",
   "name": "python",
   "nbconvert_exporter": "python",
   "pygments_lexer": "ipython3",
   "version": "3.8.8"
  }
 },
 "nbformat": 4,
 "nbformat_minor": 5
}
