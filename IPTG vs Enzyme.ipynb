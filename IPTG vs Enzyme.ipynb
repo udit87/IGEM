{
 "cells": [
  {
   "cell_type": "code",
   "execution_count": 506,
   "id": "e9bd43d8",
   "metadata": {},
   "outputs": [
    {
     "name": "stdout",
     "output_type": "stream",
     "text": [
      "[4.010300180935344, 3.421904851924104, 1.0932693641724387, 264.03042379884374, 1061.2786032564063, 2139.3295349860136, 3254.2734606881936, 4262.823999817518, 5113.374894001363, 5806.208808166317, 6362.400353039358, 6807.459190760994, 7164.674484972871, 8595.45734331288, 8922.097544047083, 9041.922729402495, 9098.372127969418, 9129.295458125971, 9148.027759785165, 9160.219703885172, 9168.593477004986, 9174.59045701662, 9193.802585194526, 9197.365634510767, 9198.612900795235, 9199.190210888093, 9199.503804488997, 9199.692887008621, 9199.815604887544, 9199.89973831964, 9199.95991726834]\n"
     ]
    },
    {
     "data": {
      "image/png": "[encoded data removed]",
      "text/plain": [
       "<Figure size 432x288 with 1 Axes>"
      ]
     },
     "metadata": {
      "needs_background": "light"
     },
     "output_type": "display_data"
    }
   ],
   "source": [
    "import numpy as np\n",
    "from scipy.integrate import odeint\n",
    "\n",
    "k_pLacI = 15 #[LINK:https://reader.elsevier.com/reader/sd/pii/S0006349508001008?token=232AC13078F3BE63479AF843B8CE6A3505F6034ED996D7EA499FF0D864FFE79816FC34904D3C2C329CE2343A18D66313&originRegion=eu-west-1&originCreation=20210713092353 ]\n",
    "k_pmRNA = 0.23 #[LINK:https://reader.elsevier.com/reader/sd/pii/S0006349508001008?token=232AC13078F3BE63479AF843B8CE6A3505F6034ED996D7EA499FF0D864FFE79816FC34904D3C2C329CE2343A18D66313&originRegion=eu-west-1&originCreation=20210713092353]\n",
    "k_dmRNA = 0.462 #[LINK:https://reader.elsevier.com/reader/sd/pii/S0006349508001008?token=232AC13078F3BE63479AF843B8CE6A3505F6034ED996D7EA499FF0D864FFE79816FC34904D3C2C329CE2343A18D66313&originRegion=eu-west-1&originCreation=20210713092353]\n",
    "k_dc = 12 #[LINK:https://www.ncbi.nlm.nih.gov/pmc/articles/PMC2772868/#:~:text=The%20IPTG%20association%20rate%20constant,Figure%205%3B%20Table%203.]\n",
    "k_dLacI =  0.2 #[LINK:https://reader.elsevier.com/reader/sd/pii/S0006349508001008?token=232AC13078F3BE63479AF843B8CE6A3505F6034ED996D7EA499FF0D864FFE79816FC34904D3C2C329CE2343A18D66313&originRegion=eu-west-1&originCreation=20210713092353]\n",
    "k_pc = 0.12 #[LINK: https://2020.igem.org/Team:ZJU-China/Model#references]\n",
    "k_pRP = 6.116 #[LINK: https://2020.igem.org/Team:ZJU-China/Model#references]\n",
    "k_dRP =0.462 #[LINK: Jayapal, K.P., Sui, S., Philp, R.J., Kok, Y.J., Yap, M.G., Griffin, T.J., and Hu, W.S. (2010) Multitagging proteomic strategy to estimate protein turnover rates in dynamic systems. J Proteome Res 9: 2087–2097. pp.2094-2095 table 1PubMed ID20184388]\n",
    "k_PMRNAP = 0.5 #[LINK: https://2020.igem.org/Team:ZJU-China/Model#references]\n",
    "k_dep1 = 0.2 #[LINK: Hammar P et al. The lac repressor displays facilitated diffusion in living cells. Science. 2012 June 22 336(6088):1595-1598. doi:10.1126/science.1221648 p.1596 left column top paragraphPubMed ID22723426]\n",
    "k_DMRNAP = 0.462 #[LINK:Comparison of Deterministic and Stochastic Models of the lac Operon Genetic Network - lMichailStamatakisNikos V.Mantzaris]\n",
    "k_b = 0.22 #[LINK: https://www.pnas.org/content/110/24/9740]\n",
    "k_dep2 = 0.2 #[LINK: Hammar P et al. The lac repressor displays facilitated diffusion in living cells. Science. 2012 June 22 336(6088):1595-1598. doi:10.1126/science.1221648 p.1596 left column top paragraphPubMed ID22723426]\n",
    "k_ub = 28.8 #[LINK: https://www.pnas.org/content/110/24/9740]\n",
    "k_p = 10 #[Determined from Protein vs Time Model]\n",
    "k_l = 0.01\n",
    "k_d = 0.462 #[LINK:Comparison of Deterministic and Stochastic Models of the lac Operon Genetic Network - lMichailStamatakisNikos V.Mantzaris]\n",
    "k_df = 0.2 #[LINK:Comparison of Deterministic and Stochastic Models of the lac Operon Genetic Network - lMichailStamatakisNikos V.Mantzaris]\n",
    "k_1 = 85 #[Determined from Protein vs Time Model]\n",
    "k_m = 100 #[LINK:https://pubmed.ncbi.nlm.nih.gov/3300768/]]\n",
    "\n",
    "# INITIAL CONDITIONS\n",
    "#d1 = mRNA of LacI   =    20 nM                 \n",
    "#d2 = LacI = 10\n",
    "#d3 = (LacI - IPTG) complex = 0\n",
    "#d4 = Free LacI = 0\n",
    "#d5 = mRNA of RNA polymerase = 20\n",
    "#d6 = RNA polymerase = 830\n",
    "#d7 = RNA polymerase binding to promoter = 0\n",
    "#d8 = mRNA of desired gene = 0\n",
    "#d9 = desired gene = 0\n",
    "\n",
    "\n",
    "tf = 1000\n",
    "dt=0.01\n",
    "t = np.arange(0,tf,dt)\n",
    "\n",
    "x = [0,10,100,1000,2*10**3,3*10**3,4*10**3,5*10**3,6*10**3,7*10**3,8*10**3,9*10**3,10**4,2*10**4,3*10**4,4*10**4,5*10**4,6*10**4,7*10**4,8*10**4,9*10**4,10**5,2*10**5,3*10**5,4*10**5,5*10**5,6*10**5,7*10**5,8*10**5,9*10**5,10**6]#,2*10**6,4*10**6,6*10**6,8*10**6,10**7]#,2*10**7,4*10**7,6*10**7,8*10**7,10**8]\n",
    "y =[]\n",
    "for i in x:\n",
    "    \n",
    "    def dD(D,tm):\n",
    "        \n",
    "        Da,Db,Dc,Dd,De,Df,Dg,Dh,Di = D\n",
    "        d1 = k_pmRNA - k_dmRNA*Da\n",
    "        d2 = k_pLacI*Da - k_dLacI*Db \n",
    "        d3 = k_pc*Db*i - k_dc*Dc\n",
    "        d4=  - (k_pc*Db*i - k_dc*Dc) +(k_pLacI*Da - k_dLacI*Db)\n",
    "        d5 = k_PMRNAP - k_DMRNAP*De - k_dep1*Dd\n",
    "        d6 = k_pRP*De - k_dRP*Df\n",
    "        d7 = k_b*Df - k_ub*Dg - k_dep2*Dd\n",
    "        d8 = k_l + k_1*Dg**2/(k_m**2 + Dg**2) - k_d*Dh\n",
    "        d9 = k_p*Dh - k_df*Di\n",
    "        return[d1,d2,d3,d4,d5,d6,d7,d8,d9]\n",
    "    D = odeint(dD,[0,0,0,0,0,0,0,0,0],t)\n",
    "    Da=D[:,0]\n",
    "    Db=D[:,1]\n",
    "    Dc=D[:,2]\n",
    "    Dd=D[:,3]\n",
    "    De=D[:,4]\n",
    "    Df=D[:,5]\n",
    "    Dg=D[:,6]\n",
    "    Dh=D[:,7]\n",
    "    Di= D[:,8]\n",
    "    \n",
    "    from scipy.signal import find_peaks\n",
    "    #plt.plot(t,Di,linewidth = 5,color = 'm')\n",
    "    #plt.xlabel('Time(min)')\n",
    "    #plt.ylabel('Enzyme conc. (nM)')\n",
    "    #print(Da)\n",
    "    #print(Db)\n",
    "    #print(Dc)\n",
    "    #print(Dd)\n",
    "    #print(De)\n",
    "    #print(Df)\n",
    "    #print(Dg)\n",
    "    #print(Dh)\n",
    "    #print(Di)\n",
    "    from scipy.signal import find_peaks\n",
    "    peaks = find_peaks(Di,height = 1)\n",
    "    #print(peaks)\n",
    "    #height = peaks[1]['peak_heights']\n",
    "    #m = np.max(height)\n",
    "    #print(m)\n",
    "    y.append(Di[99999])\n",
    "    #print(height)\n",
    "x1= [o/10**3 for o in x]    \n",
    "plt.plot(x1,y,linewidth = 5,color = 'darkviolet')\n",
    "plt.xlabel('IPTG Concentration (uM)')\n",
    "plt.ylabel('Predicted Enzyme Conc. (nM)')\n",
    "print(y)"
   ]
  },
  {
   "cell_type": "code",
   "execution_count": null,
   "id": "17e978cd",
   "metadata": {},
   "outputs": [],
   "source": []
  },
  {
   "cell_type": "code",
   "execution_count": null,
   "id": "c413b75d",
   "metadata": {},
   "outputs": [],
   "source": [
    "\n"
   ]
  },
  {
   "cell_type": "code",
   "execution_count": null,
   "id": "0aaf2189",
   "metadata": {},
   "outputs": [],
   "source": []
  },
  {
   "cell_type": "code",
   "execution_count": null,
   "id": "aa3954f1",
   "metadata": {},
   "outputs": [],
   "source": []
  },
  {
   "cell_type": "code",
   "execution_count": null,
   "id": "25c98d5a",
   "metadata": {},
   "outputs": [],
   "source": []
  }
 ],
 "metadata": {
  "kernelspec": {
   "display_name": "Python 3",
   "language": "python",
   "name": "python3"
  },
  "language_info": {
   "codemirror_mode": {
    "name": "ipython",
    "version": 3
   },
   "file_extension": ".py",
   "mimetype": "text/x-python",
   "name": "python",
   "nbconvert_exporter": "python",
   "pygments_lexer": "ipython3",
   "version": "3.8.8"
  }
 },
 "nbformat": 4,
 "nbformat_minor": 5
}
